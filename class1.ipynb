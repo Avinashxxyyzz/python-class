{
 "cells": [
  {
   "cell_type": "code",
   "execution_count": 1,
   "id": "6a6e49c8",
   "metadata": {},
   "outputs": [
    {
     "name": "stdout",
     "output_type": "stream",
     "text": [
      "False\n"
     ]
    }
   ],
   "source": [
    "a=\"CristianoRonaldo\"\n",
    "print(a.isdigit())"
   ]
  },
  {
   "cell_type": "code",
   "execution_count": 2,
   "id": "6779a106",
   "metadata": {},
   "outputs": [
    {
     "name": "stdout",
     "output_type": "stream",
     "text": [
      "False\n"
     ]
    }
   ],
   "source": [
    "# a=\"CristianoRonaldo\"\n",
    "# print(a.isdigit())\n",
    "\n",
    "a=\"CristianoRonaldo\"\n",
    "print(a.isdigit())"
   ]
  },
  {
   "cell_type": "code",
   "execution_count": 3,
   "id": "5a4ea646",
   "metadata": {},
   "outputs": [
    {
     "name": "stdout",
     "output_type": "stream",
     "text": [
      "CristianoRonaldo\n"
     ]
    }
   ],
   "source": [
    "print(a[:])"
   ]
  },
  {
   "cell_type": "code",
   "execution_count": 4,
   "id": "4fd76305",
   "metadata": {},
   "outputs": [
    {
     "name": "stdout",
     "output_type": "stream",
     "text": [
      "CsaRao\n"
     ]
    }
   ],
   "source": [
    "print(a[::3])"
   ]
  },
  {
   "cell_type": "code",
   "execution_count": 5,
   "id": "49548d29",
   "metadata": {},
   "outputs": [
    {
     "name": "stdout",
     "output_type": "stream",
     "text": [
      "CristianoRonaldo\n"
     ]
    }
   ],
   "source": [
    "print(a[::])"
   ]
  },
  {
   "cell_type": "code",
   "execution_count": 6,
   "id": "e34c62b6",
   "metadata": {},
   "outputs": [
    {
     "name": "stdout",
     "output_type": "stream",
     "text": [
      "Cr\n"
     ]
    }
   ],
   "source": [
    "print(a[:2:])"
   ]
  },
  {
   "cell_type": "code",
   "execution_count": 7,
   "id": "070e40f7",
   "metadata": {},
   "outputs": [
    {
     "name": "stdout",
     "output_type": "stream",
     "text": [
      "Cri\n"
     ]
    }
   ],
   "source": [
    "print(a[:3:])"
   ]
  },
  {
   "cell_type": "code",
   "execution_count": 8,
   "id": "5a0f4686",
   "metadata": {},
   "outputs": [
    {
     "name": "stdout",
     "output_type": "stream",
     "text": [
      "ristianoRonaldo\n"
     ]
    }
   ],
   "source": [
    "print(a[1::])"
   ]
  },
  {
   "cell_type": "code",
   "execution_count": 11,
   "id": "b741a222",
   "metadata": {},
   "outputs": [
    {
     "name": "stdout",
     "output_type": "stream",
     "text": [
      "CsaRao\n"
     ]
    }
   ],
   "source": [
    "#juj\n",
    "print(a[::3])"
   ]
  },
  {
   "cell_type": "code",
   "execution_count": 19,
   "id": "47f66389",
   "metadata": {},
   "outputs": [
    {
     "name": "stdout",
     "output_type": "stream",
     "text": [
      "8\n",
      "8\n",
      "10\n",
      "CristianoRonaldo\n",
      "15\n",
      "15\n",
      "15\n"
     ]
    }
   ],
   "source": [
    "# indexing,reverse indexing\n",
    "print(a.index(\"o\"))\n",
    "print(a.index(\"o\",3))\n",
    "print(a.index(\"o\",9,16))\n",
    "print(a)\n",
    "print(a.index(\"o\",11))\n",
    "print(a.rindex(\"o\",11))\n",
    "print(a.rindex(\"o\"))"
   ]
  },
  {
   "cell_type": "code",
   "execution_count": 25,
   "id": "06fa8b56",
   "metadata": {},
   "outputs": [
    {
     "name": "stdout",
     "output_type": "stream",
     "text": [
      "15\n",
      "-1\n",
      "8\n"
     ]
    }
   ],
   "source": [
    "# find,rfind\n",
    "print(a.rfind(\"o\"))\n",
    "print(a.rfind(\"y\"))\n",
    "print(a.find(\"o\"))"
   ]
  },
  {
   "cell_type": "code",
   "execution_count": 34,
   "id": "53bf8762",
   "metadata": {},
   "outputs": [
    {
     "name": "stdout",
     "output_type": "stream",
     "text": [
      "3\n",
      "['Cristian', 'R', 'nald', '']\n",
      "CristiancRcnaldc\n",
      "CristianoRonaldo\n",
      "False\n",
      "True\n"
     ]
    }
   ],
   "source": [
    "# count,split,replace,startswith,endswith\n",
    "print(a.count(\"o\"))\n",
    "print(a.split(\"o\"))\n",
    "print(a.replace(\"o\",\"c\"))\n",
    "print(a.replace(\"c\",\"o\"))\n",
    "print(a.startswith(\"o\"))\n",
    "print(a.endswith(\"o\"))"
   ]
  },
  {
   "cell_type": "code",
   "execution_count": 42,
   "id": "83b5dcbe",
   "metadata": {},
   "outputs": [
    {
     "name": "stdout",
     "output_type": "stream",
     "text": [
      "<class 'str'>\n",
      "<class 'int'>\n",
      "True\n",
      "True\n",
      "123\n"
     ]
    }
   ],
   "source": [
    "#type,isinstance\n",
    "a=\"123\"\n",
    "b=123\n",
    " print(type(a))\n",
    " print(type(b))\n",
    " print(isinstance(a,str))\n",
    " print(isinstance(b,int))\n",
    " print((a))"
   ]
  },
  {
   "cell_type": "code",
   "execution_count": 46,
   "id": "15e36cde",
   "metadata": {},
   "outputs": [
    {
     "name": "stdout",
     "output_type": "stream",
     "text": [
      "<class 'str'>\n",
      "123\n",
      "<class 'int'>\n"
     ]
    }
   ],
   "source": [
    "# changing datatype\n",
    "a=\"123\"\n",
    "print(type(a))\n",
    "a = int(a)\n",
    "print(a)\n",
    "print(type(a))"
   ]
  },
  {
   "cell_type": "code",
   "execution_count": 48,
   "id": "1af936b3",
   "metadata": {},
   "outputs": [
    {
     "name": "stdout",
     "output_type": "stream",
     "text": [
      "0x7b\n",
      "0o173\n"
     ]
    }
   ],
   "source": [
    "print(hex(a))\n",
    "print(oct(a))"
   ]
  },
  {
   "cell_type": "code",
   "execution_count": 78,
   "id": "dc9db844",
   "metadata": {},
   "outputs": [
    {
     "name": "stdout",
     "output_type": "stream",
     "text": [
      "<class 'list'>\n",
      "False\n",
      "['avinash', '20', 'chennai']\n",
      "['avinash', 'chennai']\n",
      "['avinash', '20', 'chennai']\n",
      "['avinash']\n",
      "0\n",
      "3\n",
      "chennai\n",
      "20\n",
      "['20', 'avinash', 'chennai']\n",
      "0\n"
     ]
    }
   ],
   "source": [
    "# list\n",
    "a=[\"avinash\",\"20\",\"chennai\"]\n",
    "print(type(a))\n",
    "print(isinstance(a,str))\n",
    "print(a[:])\n",
    "print(a[::2])\n",
    "print(a[::1])\n",
    "print(a[::3])\n",
    "print(a.index(\"avinash\"))\n",
    "print(len(a))\n",
    "print(max(a))\n",
    "print(min(a))\n",
    "print(sorted(a))\n",
    "print(a.index(\"avinash\"))"
   ]
  },
  {
   "cell_type": "code",
   "execution_count": 85,
   "id": "98645ee0",
   "metadata": {},
   "outputs": [
    {
     "name": "stdout",
     "output_type": "stream",
     "text": [
      "['avinash', 'hello', 'hello', '20', 'chennai', 'demo', 'demo', 'demo', 'demo', 'demo', 'demo', 'demo']\n"
     ]
    }
   ],
   "source": [
    "# append, insert, delete,remove\n",
    "a.append(\"demo\")\n",
    "a.insert(1,\"hello\")\n"
   ]
  },
  {
   "cell_type": "code",
   "execution_count": 87,
   "id": "6c913c68",
   "metadata": {},
   "outputs": [
    {
     "name": "stdout",
     "output_type": "stream",
     "text": [
      "['avinash', '20', 'chennai', 'demo', 'demo', 'demo', 'demo', 'demo', 'demo', 'demo']\n"
     ]
    }
   ],
   "source": [
    "a.remove(\"hello\")\n",
    "print(a)"
   ]
  },
  {
   "cell_type": "code",
   "execution_count": 94,
   "id": "a3465a84",
   "metadata": {},
   "outputs": [
    {
     "name": "stdout",
     "output_type": "stream",
     "text": [
      "['avinash', 'demo', 'demo', 'demo', 'demo']\n"
     ]
    }
   ],
   "source": [
    "del a[1]\n",
    "print(a)"
   ]
  },
  {
   "cell_type": "code",
   "execution_count": 103,
   "id": "63281ea3",
   "metadata": {},
   "outputs": [
    {
     "name": "stdout",
     "output_type": "stream",
     "text": [
      "['avinash', '20', 'chennai']\n"
     ]
    }
   ],
   "source": [
    "a.append(\"chennai\")\n",
    "\n",
    "print(a)"
   ]
  },
  {
   "cell_type": "code",
   "execution_count": 106,
   "id": "775fb28a",
   "metadata": {},
   "outputs": [
    {
     "name": "stdout",
     "output_type": "stream",
     "text": [
      "['avi', '20', 'chennai', ['nash', '23', 'madras']]\n"
     ]
    }
   ],
   "source": [
    "# append two lists\n",
    "a=[\"avi\",\"20\",\"chennai\"]\n",
    "\n",
    "b=[\"nash\",\"23\",\"madras\"]\n",
    "a.append(b)\n",
    "print(a)"
   ]
  },
  {
   "cell_type": "code",
   "execution_count": 107,
   "id": "587d4a5b",
   "metadata": {},
   "outputs": [
    {
     "name": "stdout",
     "output_type": "stream",
     "text": [
      "['avi', '20', 'chennai', 'nash', '23', 'madras']\n"
     ]
    }
   ],
   "source": [
    "# extend two lists\n",
    "a=[\"avi\",\"20\",\"chennai\"]\n",
    "\n",
    "b=[\"nash\",\"23\",\"madras\"]\n",
    "a.extend(b)\n",
    "print(a)"
   ]
  },
  {
   "cell_type": "code",
   "execution_count": 108,
   "id": "7ecf2d84",
   "metadata": {},
   "outputs": [
    {
     "name": "stdout",
     "output_type": "stream",
     "text": [
      "('avi', '20', 'chennai')\n"
     ]
    }
   ],
   "source": [
    "# tuple\n",
    "a=(\"avi\",\"20\",\"chennai\")\n",
    "print(a)"
   ]
  },
  {
   "cell_type": "code",
   "execution_count": 109,
   "id": "4f33ff19",
   "metadata": {},
   "outputs": [
    {
     "name": "stdout",
     "output_type": "stream",
     "text": [
      "<class 'tuple'>\n"
     ]
    }
   ],
   "source": [
    "print(type(a))"
   ]
  },
  {
   "cell_type": "code",
   "execution_count": 111,
   "id": "f85db543",
   "metadata": {},
   "outputs": [
    {
     "name": "stdout",
     "output_type": "stream",
     "text": [
      "True\n"
     ]
    }
   ],
   "source": [
    "print(isinstance(a,tuple))"
   ]
  },
  {
   "cell_type": "code",
   "execution_count": 112,
   "id": "b9f7765b",
   "metadata": {},
   "outputs": [
    {
     "name": "stdout",
     "output_type": "stream",
     "text": [
      "20\n"
     ]
    }
   ],
   "source": [
    "print(min(a))"
   ]
  },
  {
   "cell_type": "code",
   "execution_count": 113,
   "id": "05f2c125",
   "metadata": {},
   "outputs": [
    {
     "name": "stdout",
     "output_type": "stream",
     "text": [
      "chennai\n"
     ]
    }
   ],
   "source": [
    "print(max(a))"
   ]
  },
  {
   "cell_type": "code",
   "execution_count": 114,
   "id": "e0720323",
   "metadata": {},
   "outputs": [
    {
     "name": "stdout",
     "output_type": "stream",
     "text": [
      "['20', 'avi', 'chennai']\n"
     ]
    }
   ],
   "source": [
    "print(sorted(a))"
   ]
  },
  {
   "cell_type": "code",
   "execution_count": 129,
   "id": "97201d89",
   "metadata": {},
   "outputs": [
    {
     "name": "stdout",
     "output_type": "stream",
     "text": [
      "1\n"
     ]
    }
   ],
   "source": [
    "print(a.index(\"20\"))"
   ]
  },
  {
   "cell_type": "code",
   "execution_count": 126,
   "id": "c9ecb96f",
   "metadata": {},
   "outputs": [
    {
     "ename": "AttributeError",
     "evalue": "'tuple' object has no attribute 'rindex'",
     "output_type": "error",
     "traceback": [
      "\u001b[1;31m---------------------------------------------------------------------------\u001b[0m",
      "\u001b[1;31mAttributeError\u001b[0m                            Traceback (most recent call last)",
      "\u001b[1;32m~\\AppData\\Local\\Temp\\ipykernel_9500\\471147203.py\u001b[0m in \u001b[0;36m<module>\u001b[1;34m\u001b[0m\n\u001b[1;32m----> 1\u001b[1;33m \u001b[0mprint\u001b[0m\u001b[1;33m(\u001b[0m\u001b[0ma\u001b[0m\u001b[1;33m.\u001b[0m\u001b[0mrindex\u001b[0m\u001b[1;33m(\u001b[0m\u001b[1;34m\"chennai\"\u001b[0m\u001b[1;33m)\u001b[0m\u001b[1;33m)\u001b[0m\u001b[1;33m\u001b[0m\u001b[1;33m\u001b[0m\u001b[0m\n\u001b[0m",
      "\u001b[1;31mAttributeError\u001b[0m: 'tuple' object has no attribute 'rindex'"
     ]
    }
   ],
   "source": [
    "print(a.rindex(\"chennai\"))"
   ]
  },
  {
   "cell_type": "code",
   "execution_count": 125,
   "id": "236263e6",
   "metadata": {},
   "outputs": [
    {
     "ename": "AttributeError",
     "evalue": "'tuple' object has no attribute 'find'",
     "output_type": "error",
     "traceback": [
      "\u001b[1;31m---------------------------------------------------------------------------\u001b[0m",
      "\u001b[1;31mAttributeError\u001b[0m                            Traceback (most recent call last)",
      "\u001b[1;32m~\\AppData\\Local\\Temp\\ipykernel_9500\\3107142955.py\u001b[0m in \u001b[0;36m<module>\u001b[1;34m\u001b[0m\n\u001b[1;32m----> 1\u001b[1;33m \u001b[0mprint\u001b[0m\u001b[1;33m(\u001b[0m\u001b[0ma\u001b[0m\u001b[1;33m.\u001b[0m\u001b[0mfind\u001b[0m\u001b[1;33m(\u001b[0m\u001b[0mavi\u001b[0m\u001b[1;33m)\u001b[0m\u001b[1;33m)\u001b[0m\u001b[1;33m\u001b[0m\u001b[1;33m\u001b[0m\u001b[0m\n\u001b[0m",
      "\u001b[1;31mAttributeError\u001b[0m: 'tuple' object has no attribute 'find'"
     ]
    }
   ],
   "source": [
    "print(a.find(avi))"
   ]
  },
  {
   "cell_type": "code",
   "execution_count": 131,
   "id": "c10f3c73",
   "metadata": {},
   "outputs": [
    {
     "ename": "AttributeError",
     "evalue": "'tuple' object has no attribute 'rindex'",
     "output_type": "error",
     "traceback": [
      "\u001b[1;31m---------------------------------------------------------------------------\u001b[0m",
      "\u001b[1;31mAttributeError\u001b[0m                            Traceback (most recent call last)",
      "\u001b[1;32m~\\AppData\\Local\\Temp\\ipykernel_9500\\749427638.py\u001b[0m in \u001b[0;36m<module>\u001b[1;34m\u001b[0m\n\u001b[0;32m      2\u001b[0m \u001b[0mb\u001b[0m\u001b[1;33m=\u001b[0m\u001b[1;33m(\u001b[0m\u001b[1;34m\"nash\"\u001b[0m\u001b[1;33m,\u001b[0m\u001b[1;34m\"23\"\u001b[0m\u001b[1;33m,\u001b[0m\u001b[1;34m\"madras\"\u001b[0m\u001b[1;33m)\u001b[0m\u001b[1;33m\u001b[0m\u001b[1;33m\u001b[0m\u001b[0m\n\u001b[0;32m      3\u001b[0m \u001b[1;33m\u001b[0m\u001b[0m\n\u001b[1;32m----> 4\u001b[1;33m \u001b[0mprint\u001b[0m\u001b[1;33m(\u001b[0m\u001b[0mb\u001b[0m\u001b[1;33m.\u001b[0m\u001b[0mrindex\u001b[0m\u001b[1;33m(\u001b[0m\u001b[1;34m\"23\"\u001b[0m\u001b[1;33m)\u001b[0m\u001b[1;33m)\u001b[0m\u001b[1;33m\u001b[0m\u001b[1;33m\u001b[0m\u001b[0m\n\u001b[0m",
      "\u001b[1;31mAttributeError\u001b[0m: 'tuple' object has no attribute 'rindex'"
     ]
    }
   ],
   "source": [
    "# tuples cannot be edited, lists can be edited\n",
    "a=(\"avi\",\"20\",\"chennai\")\n",
    "b=(\"nash\",\"23\",\"madras\")\n",
    "\n",
    "print(b.rindex(\"23\"))"
   ]
  },
  {
   "cell_type": "code",
   "execution_count": null,
   "id": "7db896ce",
   "metadata": {},
   "outputs": [],
   "source": []
  }
 ],
 "metadata": {
  "kernelspec": {
   "display_name": "Python 3 (ipykernel)",
   "language": "python",
   "name": "python3"
  },
  "language_info": {
   "codemirror_mode": {
    "name": "ipython",
    "version": 3
   },
   "file_extension": ".py",
   "mimetype": "text/x-python",
   "name": "python",
   "nbconvert_exporter": "python",
   "pygments_lexer": "ipython3",
   "version": "3.9.13"
  }
 },
 "nbformat": 4,
 "nbformat_minor": 5
}
